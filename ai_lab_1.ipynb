{
 "cells": [
  {
   "cell_type": "markdown",
   "metadata": {},
   "source": [
    "# Muhammad Umair Khan\n",
    "## 01-134202-114"
   ]
  },
  {
   "cell_type": "code",
   "execution_count": 1,
   "metadata": {},
   "outputs": [
    {
     "name": "stdout",
     "output_type": "stream",
     "text": [
      "Hello World\n"
     ]
    }
   ],
   "source": [
    "print(\"Hello World\")"
   ]
  },
  {
   "cell_type": "code",
   "execution_count": 2,
   "metadata": {
    "scrolled": true
   },
   "outputs": [
    {
     "data": {
      "text/plain": [
       "0.5"
      ]
     },
     "execution_count": 2,
     "metadata": {},
     "output_type": "execute_result"
    }
   ],
   "source": [
    "1/2"
   ]
  },
  {
   "cell_type": "code",
   "execution_count": 4,
   "metadata": {
    "scrolled": false
   },
   "outputs": [
    {
     "data": {
      "text/plain": [
       "8"
      ]
     },
     "execution_count": 4,
     "metadata": {},
     "output_type": "execute_result"
    }
   ],
   "source": [
    "2**3"
   ]
  },
  {
   "cell_type": "code",
   "execution_count": 5,
   "metadata": {},
   "outputs": [
    {
     "data": {
      "text/plain": [
       "5"
      ]
     },
     "execution_count": 5,
     "metadata": {},
     "output_type": "execute_result"
    }
   ],
   "source": [
    "17//3"
   ]
  },
  {
   "cell_type": "code",
   "execution_count": 6,
   "metadata": {},
   "outputs": [
    {
     "data": {
      "text/plain": [
       "2"
      ]
     },
     "execution_count": 6,
     "metadata": {},
     "output_type": "execute_result"
    }
   ],
   "source": [
    "23%3"
   ]
  },
  {
   "cell_type": "code",
   "execution_count": 9,
   "metadata": {},
   "outputs": [
    {
     "name": "stdout",
     "output_type": "stream",
     "text": [
      "This program is a demo of variables\n",
      "The value of v is now 1\n",
      "v now equals itself plus one, making it worth 2\n",
      "To make v five times bigger, you would have to type v = v * 5\n",
      "There you go, now v equals 10 and not 2.0\n"
     ]
    }
   ],
   "source": [
    "print (\"This program is a demo of variables\")\n",
    "v = 1\n",
    "print (\"The value of v is now\", v)\n",
    "v = v + 1\n",
    "print (\"v now equals itself plus one, making it worth\", v)\n",
    "print (\"To make v five times bigger, you would have to type v = v * 5\")\n",
    "v = v * 5\n",
    "print (\"There you go, now v equals\", v, \"and not\", v / 5 )"
   ]
  },
  {
   "cell_type": "code",
   "execution_count": 11,
   "metadata": {},
   "outputs": [
    {
     "name": "stdout",
     "output_type": "stream",
     "text": [
      "This should happen.\n"
     ]
    }
   ],
   "source": [
    "a = 1\n",
    "if a > 5:\n",
    "    print (\"This shouldn't happen.\")\n",
    "else:\n",
    "    print (\"This should happen.\")"
   ]
  },
  {
   "cell_type": "code",
   "execution_count": 12,
   "metadata": {},
   "outputs": [
    {
     "name": "stdout",
     "output_type": "stream",
     "text": [
      "This is normal\n"
     ]
    }
   ],
   "source": [
    "z = 4\n",
    "if z > 70:\n",
    "    print (\"Something is very wrong\")\n",
    "elif z < 7:\n",
    "    print (\"This is normal\")"
   ]
  },
  {
   "cell_type": "code",
   "execution_count": 13,
   "metadata": {},
   "outputs": [
    {
     "name": "stdout",
     "output_type": "stream",
     "text": [
      "Please enter an integer: 2\n",
      "More\n"
     ]
    }
   ],
   "source": [
    "x = int(input(\"Please enter an integer: \"))\n",
    "if x < 0:\n",
    "    x = 0\n",
    "    print(\"Negative changed to zero\")\n",
    "elif x == 0:\n",
    "    print(\"Zero\")\n",
    "elif x == 1:\n",
    "    print(\"Single\")\n",
    "else:\n",
    "    print(\"More\")"
   ]
  },
  {
   "cell_type": "code",
   "execution_count": 14,
   "metadata": {},
   "outputs": [
    {
     "name": "stdout",
     "output_type": "stream",
     "text": [
      "LINKIN PARK has 11 characters\n"
     ]
    }
   ],
   "source": [
    "name = \"Linkin Park\"\n",
    "length = len(name)\n",
    "big_name = str.upper(name)\n",
    "print (big_name, \"has\", length, \"characters\")"
   ]
  },
  {
   "cell_type": "code",
   "execution_count": 18,
   "metadata": {},
   "outputs": [
    {
     "data": {
      "text/plain": [
       "'U'"
      ]
     },
     "execution_count": 18,
     "metadata": {},
     "output_type": "execute_result"
    }
   ],
   "source": [
    "ord(\"U\")\n",
    "chr(85)"
   ]
  },
  {
   "cell_type": "code",
   "execution_count": 19,
   "metadata": {},
   "outputs": [
    {
     "name": "stdout",
     "output_type": "stream",
     "text": [
      "1\n",
      "2\n",
      "3\n",
      "4\n",
      "5\n",
      "6\n",
      "7\n",
      "8\n",
      "9\n",
      "10\n"
     ]
    }
   ],
   "source": [
    "a = 0\n",
    "while a < 10:\n",
    "    a = a + 1\n",
    "    print (a )"
   ]
  },
  {
   "cell_type": "code",
   "execution_count": 20,
   "metadata": {},
   "outputs": [
    {
     "name": "stdout",
     "output_type": "stream",
     "text": [
      "1\n",
      "2\n",
      "3\n",
      "4\n",
      "1\n",
      "2\n",
      "3\n",
      "4\n",
      "The for loop is over\n"
     ]
    }
   ],
   "source": [
    "for i in range(1, 5):\n",
    "    print (i )\n",
    "for i in range(1, 5):\n",
    "    print (i)\n",
    "else:\n",
    "    print ('The for loop is over' )"
   ]
  },
  {
   "cell_type": "code",
   "execution_count": 23,
   "metadata": {},
   "outputs": [
    {
     "name": "stdout",
     "output_type": "stream",
     "text": [
      "140\n"
     ]
    }
   ],
   "source": [
    "def multiplybytwo(x):\n",
    "    return x*2\n",
    "a = multiplybytwo(70)\n",
    "print(a)"
   ]
  },
  {
   "cell_type": "code",
   "execution_count": 25,
   "metadata": {},
   "outputs": [
    {
     "name": "stdout",
     "output_type": "stream",
     "text": [
      "9\n"
     ]
    }
   ],
   "source": [
    "square = lambda x: x*x\n",
    "print(square(3))"
   ]
  },
  {
   "cell_type": "code",
   "execution_count": 26,
   "metadata": {},
   "outputs": [
    {
     "name": "stdout",
     "output_type": "stream",
     "text": [
      "Please select an option:\n",
      "1. Addition\n",
      "2. Subtraction\n",
      "3. Multiplication\n",
      "4. Classic Division\n",
      "5. Quit\n",
      "Enter your choice (1-5): 1\n",
      "Enter first number: 2\n",
      "Enter second number: 3\n",
      "Result:  5\n",
      "Please select an option:\n",
      "1. Addition\n",
      "2. Subtraction\n",
      "3. Multiplication\n",
      "4. Classic Division\n",
      "5. Quit\n",
      "Enter your choice (1-5): 5\n",
      "Exiting program...\n"
     ]
    }
   ],
   "source": [
    "def menu():\n",
    "    print(\"Please select an option:\")\n",
    "    print(\"1. Addition\")\n",
    "    print(\"2. Subtraction\")\n",
    "    print(\"3. Multiplication\")\n",
    "    print(\"4. Classic Division\")\n",
    "    print(\"5. Quit\")\n",
    "    choice = input(\"Enter your choice (1-5): \")\n",
    "    return choice\n",
    "\n",
    "def addition():\n",
    "    num1 = int(input(\"Enter first number: \"))\n",
    "    num2 = int(input(\"Enter second number: \"))\n",
    "    result = num1 + num2\n",
    "    print(\"Result: \", result)\n",
    "\n",
    "def subtraction():\n",
    "    num1 = int(input(\"Enter first number: \"))\n",
    "    num2 = int(input(\"Enter second number: \"))\n",
    "    result = num1 - num2\n",
    "    print(\"Result: \", result)\n",
    "\n",
    "def multiplication():\n",
    "    num1 = int(input(\"Enter first number: \"))\n",
    "    num2 = int(input(\"Enter second number: \"))\n",
    "    result = num1 * num2\n",
    "    print(\"Result: \", result)\n",
    "\n",
    "def classic_division():\n",
    "    num1 = int(input(\"Enter first number: \"))\n",
    "    num2 = int(input(\"Enter second number: \"))\n",
    "    result = num1 / num2\n",
    "    print(\"Result: \", result)\n",
    "\n",
    "while True:\n",
    "    choice = menu()\n",
    "    if choice == '1':\n",
    "        addition()\n",
    "    elif choice == '2':\n",
    "        subtraction()\n",
    "    elif choice == '3':\n",
    "        multiplication()\n",
    "    elif choice == '4':\n",
    "        classic_division()\n",
    "    elif choice == '5':\n",
    "        print(\"Exiting program...\")\n",
    "        break\n",
    "    else:\n",
    "        print(\"Invalid choice. Please try again.\")\n"
   ]
  },
  {
   "cell_type": "code",
   "execution_count": 27,
   "metadata": {},
   "outputs": [
    {
     "name": "stdout",
     "output_type": "stream",
     "text": [
      "Please select an option:\n",
      "1. Meter to Kilometer\n",
      "2. Kilometer to Meter\n",
      "3. Centimeter to Meter\n",
      "4. Centimeter to Millimeter\n",
      "5. Quit\n",
      "Enter your choice (1-5): 2\n",
      "Enter length in kilometers: 200\n",
      "200.0 kilometers is equal to 200000.0 meters.\n",
      "Please select an option:\n",
      "1. Meter to Kilometer\n",
      "2. Kilometer to Meter\n",
      "3. Centimeter to Meter\n",
      "4. Centimeter to Millimeter\n",
      "5. Quit\n",
      "Enter your choice (1-5): 5\n",
      "Exiting program...\n"
     ]
    }
   ],
   "source": [
    "def menu():\n",
    "    print(\"Please select an option:\")\n",
    "    print(\"1. Meter to Kilometer\")\n",
    "    print(\"2. Kilometer to Meter\")\n",
    "    print(\"3. Centimeter to Meter\")\n",
    "    print(\"4. Centimeter to Millimeter\")\n",
    "    print(\"5. Quit\")\n",
    "    choice = input(\"Enter your choice (1-5): \")\n",
    "    return choice\n",
    "\n",
    "def meter_to_km():\n",
    "    meter = float(input(\"Enter length in meters: \"))\n",
    "    km = meter / 1000\n",
    "    print(meter, \"meters is equal to\", km, \"kilometers.\")\n",
    "\n",
    "def km_to_meter():\n",
    "    km = float(input(\"Enter length in kilometers: \"))\n",
    "    meter = km * 1000\n",
    "    print(km, \"kilometers is equal to\", meter, \"meters.\")\n",
    "\n",
    "def cm_to_meter():\n",
    "    cm = float(input(\"Enter length in centimeters: \"))\n",
    "    meter = cm / 100\n",
    "    print(cm, \"centimeters is equal to\", meter, \"meters.\")\n",
    "\n",
    "def cm_to_mm():\n",
    "    cm = float(input(\"Enter length in centimeters: \"))\n",
    "    mm = cm * 10\n",
    "    print(cm, \"centimeters is equal to\", mm, \"millimeters.\")\n",
    "\n",
    "while True:\n",
    "    choice = menu()\n",
    "    if choice == '1':\n",
    "        meter_to_km()\n",
    "    elif choice == '2':\n",
    "        km_to_meter()\n",
    "    elif choice == '3':\n",
    "        cm_to_meter()\n",
    "    elif choice == '4':\n",
    "        cm_to_mm()\n",
    "    elif choice == '5':\n",
    "        print(\"Exiting program...\")\n",
    "        break\n",
    "    else:\n",
    "        print(\"Invalid choice. Please try again.\")"
   ]
  },
  {
   "cell_type": "code",
   "execution_count": 30,
   "metadata": {},
   "outputs": [
    {
     "name": "stdout",
     "output_type": "stream",
     "text": [
      "12\n"
     ]
    }
   ],
   "source": [
    "class Shape:\n",
    "    def __init__ (self,x,y): #The init function always runs first\n",
    "        self.x = x\n",
    "        self.y = y\n",
    "        description = \"This shape has not been described yet\"\n",
    "        author = \"Nobody has claimed to make this shape yet\"\n",
    "    def area(self):\n",
    "        return self.x * self.y\n",
    "    def perimeter(self):\n",
    "        return 2 * self.x + 2 * self.y\n",
    "    def describe(self,text):\n",
    "        self.description = text\n",
    "    def authorName(self,text):\n",
    "        self.author = text\n",
    "    def scaleSize(self,scale):\n",
    "        self.x = self.x * scale\n",
    "        self.y = self.y * scale\n",
    "a=Shape(3,4)\n",
    "print (a.area())"
   ]
  },
  {
   "cell_type": "code",
   "execution_count": 42,
   "metadata": {},
   "outputs": [
    {
     "name": "stdout",
     "output_type": "stream",
     "text": [
      "9.0\n"
     ]
    }
   ],
   "source": [
    "import math\n",
    "class basic_calc:\n",
    "    def __init__(self, num1, num2):\n",
    "        self.num1 = num1\n",
    "        self.num2 = num2\n",
    "    def addition(self):\n",
    "        return self.num1 + self.num2\n",
    "    def subtraction(self):\n",
    "        return self.num1 - self.num2\n",
    "    def multiplication(self):\n",
    "        return self.num1 * self.num2\n",
    "    def division(self):\n",
    "        return self.num1 / self.num2\n",
    "    \n",
    "class s_calc(basic_calc):\n",
    "    def factorial(self):\n",
    "        return math.factorial(self.num1)\n",
    "    def x_power_y(self):\n",
    "        return math.pow(self.num1, self.num2)\n",
    "    def log(self):\n",
    "        return math.log10(self.num1)\n",
    "    def ln(self):\n",
    "        return math.log(self.num1)\n",
    "    \n",
    "val= s_calc(3,2)\n",
    "print(val.x_power_y())\n",
    "    "
   ]
  }
 ],
 "metadata": {
  "kernelspec": {
   "display_name": "Python 3",
   "language": "python",
   "name": "python3"
  },
  "language_info": {
   "codemirror_mode": {
    "name": "ipython",
    "version": 3
   },
   "file_extension": ".py",
   "mimetype": "text/x-python",
   "name": "python",
   "nbconvert_exporter": "python",
   "pygments_lexer": "ipython3",
   "version": "3.7.3"
  }
 },
 "nbformat": 4,
 "nbformat_minor": 2
}
